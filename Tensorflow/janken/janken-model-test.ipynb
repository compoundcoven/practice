{
 "cells": [
  {
   "cell_type": "code",
   "execution_count": 2,
   "metadata": {},
   "outputs": [
    {
     "name": "stdout",
     "output_type": "stream",
     "text": [
      "Model: \"sequential\"\n",
      "_________________________________________________________________\n",
      "Layer (type)                 Output Shape              Param #   \n",
      "=================================================================\n",
      "dense_1 (Dense)              (None, 30)                90        \n",
      "_________________________________________________________________\n",
      "dense_2 (Dense)              (None, 3)                 93        \n",
      "=================================================================\n",
      "Total params: 183\n",
      "Trainable params: 183\n",
      "Non-trainable params: 0\n",
      "_________________________________________________________________\n",
      "('You must install pydot (`pip install pydot`) and install graphviz (see instructions at https://graphviz.gitlab.io/download/) ', 'for plot_model/model_to_dot to work.')\n",
      "Epoch 1/20\n",
      "63/63 [==============================] - 0s 2ms/step - loss: 1.0566 - accuracy: 0.5290\n",
      "Epoch 2/20\n",
      "63/63 [==============================] - 0s 2ms/step - loss: 1.0124 - accuracy: 0.6665\n",
      "Epoch 3/20\n",
      "63/63 [==============================] - 0s 2ms/step - loss: 0.9718 - accuracy: 0.6895\n",
      "Epoch 4/20\n",
      "63/63 [==============================] - 0s 2ms/step - loss: 0.9306 - accuracy: 0.6360\n",
      "Epoch 5/20\n",
      "63/63 [==============================] - 0s 2ms/step - loss: 0.8930 - accuracy: 0.6775\n",
      "Epoch 6/20\n",
      "63/63 [==============================] - 0s 2ms/step - loss: 0.8564 - accuracy: 0.6245\n",
      "Epoch 7/20\n",
      "63/63 [==============================] - 0s 2ms/step - loss: 0.8213 - accuracy: 0.6165\n",
      "Epoch 8/20\n",
      "63/63 [==============================] - 0s 2ms/step - loss: 0.7849 - accuracy: 0.6570\n",
      "Epoch 9/20\n",
      "63/63 [==============================] - 0s 2ms/step - loss: 0.7528 - accuracy: 0.6965\n",
      "Epoch 10/20\n",
      "63/63 [==============================] - 0s 2ms/step - loss: 0.7230 - accuracy: 0.6890\n",
      "Epoch 11/20\n",
      "63/63 [==============================] - 0s 2ms/step - loss: 0.6952 - accuracy: 0.6585\n",
      "Epoch 12/20\n",
      "63/63 [==============================] - 0s 2ms/step - loss: 0.6688 - accuracy: 0.7830\n",
      "Epoch 13/20\n",
      "63/63 [==============================] - 0s 2ms/step - loss: 0.6441 - accuracy: 0.7080\n",
      "Epoch 14/20\n",
      "63/63 [==============================] - 0s 2ms/step - loss: 0.6199 - accuracy: 0.7490\n",
      "Epoch 15/20\n",
      "63/63 [==============================] - 0s 2ms/step - loss: 0.5962 - accuracy: 0.7130\n",
      "Epoch 16/20\n",
      "63/63 [==============================] - 0s 2ms/step - loss: 0.5747 - accuracy: 0.7845\n",
      "Epoch 17/20\n",
      "63/63 [==============================] - 0s 2ms/step - loss: 0.5530 - accuracy: 0.7795\n",
      "Epoch 18/20\n",
      "63/63 [==============================] - 0s 2ms/step - loss: 0.5334 - accuracy: 0.8160\n",
      "Epoch 19/20\n",
      "63/63 [==============================] - 0s 2ms/step - loss: 0.5138 - accuracy: 0.8690\n",
      "Epoch 20/20\n",
      "63/63 [==============================] - 0s 2ms/step - loss: 0.4954 - accuracy: 0.8305\n",
      "32/32 - 0s - loss: 0.4879 - accuracy: 0.7580\n"
     ]
    },
    {
     "data": {
      "text/plain": [
       "[0.4878763258457184, 0.7580000162124634]"
      ]
     },
     "execution_count": 2,
     "metadata": {},
     "output_type": "execute_result"
    }
   ],
   "source": [
    "import tensorflow as tf\n",
    "import numpy as np\n",
    "import pickle\n",
    "\n",
    "#保存したジャンケンのデータを読み込む\n",
    "with open(\"janken-data.pkl\", \"rb\")as fp:\n",
    "    data = pickle.load(fp)\n",
    "(x_train, y_train), (x_test, y_test) = data\n",
    "\n",
    "#学習モデルを構築\n",
    "model = tf.keras.models.Sequential([\n",
    "    tf.keras.layers.Dense(30, activation='relu', input_dim=2),\n",
    "    tf.keras.layers.Dense(3, activation='softmax')\n",
    "])\n",
    "\n",
    "#モデルを構築\n",
    "model.compile(optimizer = \"adam\",\n",
    "             loss = 'sparse_categorical_crossentropy', \n",
    "             metrics = ['accuracy'])\n",
    "#モデルの概要を表示\n",
    "model.summary()\n",
    "\n",
    "#図でモデルを出力\n",
    "tf.keras.utils.plot_model(model, to_file='janken-model.png')\n",
    "\n",
    "model.fit(x_train, y_train, epochs=20)\n",
    "model.evaluate(x_test, y_test, verbose=2)"
   ]
  },
  {
   "cell_type": "code",
   "execution_count": null,
   "metadata": {},
   "outputs": [],
   "source": []
  }
 ],
 "metadata": {
  "kernelspec": {
   "display_name": "Python 3",
   "language": "python",
   "name": "python3"
  },
  "language_info": {
   "codemirror_mode": {
    "name": "ipython",
    "version": 3
   },
   "file_extension": ".py",
   "mimetype": "text/x-python",
   "name": "python",
   "nbconvert_exporter": "python",
   "pygments_lexer": "ipython3",
   "version": "3.8.10"
  }
 },
 "nbformat": 4,
 "nbformat_minor": 4
}
