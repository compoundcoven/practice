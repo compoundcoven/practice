{
 "cells": [
  {
   "cell_type": "code",
   "execution_count": 5,
   "metadata": {},
   "outputs": [
    {
     "name": "stdout",
     "output_type": "stream",
     "text": [
      "Epoch 1/20\n",
      "63/63 [==============================] - 1s 3ms/step - loss: 1.1053 - accuracy: 0.2785\n",
      "Epoch 2/20\n",
      "63/63 [==============================] - 0s 3ms/step - loss: 1.0295 - accuracy: 0.3240\n",
      "Epoch 3/20\n",
      "63/63 [==============================] - 0s 3ms/step - loss: 0.9746 - accuracy: 0.5635\n",
      "Epoch 4/20\n",
      "63/63 [==============================] - 0s 3ms/step - loss: 0.9253 - accuracy: 0.5640\n",
      "Epoch 5/20\n",
      "63/63 [==============================] - 0s 2ms/step - loss: 0.8750 - accuracy: 0.6840\n",
      "Epoch 6/20\n",
      "63/63 [==============================] - 0s 2ms/step - loss: 0.8252 - accuracy: 0.7975\n",
      "Epoch 7/20\n",
      "63/63 [==============================] - 0s 2ms/step - loss: 0.7775 - accuracy: 0.8090\n",
      "Epoch 8/20\n",
      "63/63 [==============================] - 0s 2ms/step - loss: 0.7292 - accuracy: 0.8965\n",
      "Epoch 9/20\n",
      "63/63 [==============================] - 0s 2ms/step - loss: 0.6811 - accuracy: 0.9910\n",
      "Epoch 10/20\n",
      "63/63 [==============================] - 0s 2ms/step - loss: 0.6342 - accuracy: 1.0000\n",
      "Epoch 11/20\n",
      "63/63 [==============================] - 0s 2ms/step - loss: 0.5877 - accuracy: 1.0000\n",
      "Epoch 12/20\n",
      "63/63 [==============================] - 0s 2ms/step - loss: 0.5430 - accuracy: 1.0000\n",
      "Epoch 13/20\n",
      "63/63 [==============================] - 0s 2ms/step - loss: 0.5007 - accuracy: 1.0000\n",
      "Epoch 14/20\n",
      "63/63 [==============================] - 0s 2ms/step - loss: 0.4598 - accuracy: 1.0000\n",
      "Epoch 15/20\n",
      "63/63 [==============================] - 0s 2ms/step - loss: 0.4220 - accuracy: 1.0000\n",
      "Epoch 16/20\n",
      "63/63 [==============================] - 0s 2ms/step - loss: 0.3859 - accuracy: 1.0000\n",
      "Epoch 17/20\n",
      "63/63 [==============================] - 0s 2ms/step - loss: 0.3523 - accuracy: 1.0000\n",
      "Epoch 18/20\n",
      "63/63 [==============================] - 0s 2ms/step - loss: 0.3212 - accuracy: 1.0000\n",
      "Epoch 19/20\n",
      "63/63 [==============================] - 0s 2ms/step - loss: 0.2928 - accuracy: 1.0000\n",
      "Epoch 20/20\n",
      "63/63 [==============================] - 0s 2ms/step - loss: 0.2668 - accuracy: 1.0000\n",
      "32/32 - 0s - loss: 0.2539 - accuracy: 1.0000\n",
      "[[0.86739343 0.04685284 0.08575369]]\n",
      "グー グー → あいこ\n",
      "[[0.78455293 0.1322614  0.0831857 ]]\n",
      "チョキ チョキ → あいこ\n",
      "[[0.12171884 0.7285089  0.1497722 ]]\n",
      "パー チョキ → 負け\n"
     ]
    }
   ],
   "source": [
    "import tensorflow as tf\n",
    "import numpy as np\n",
    "import pickle\n",
    "\n",
    "#保存したジャンケンのデータを読み込む\n",
    "with open(\"janken-data.pkl\", \"rb\") as fp:\n",
    "    data = pickle.load(fp)\n",
    "(x_train, y_train), (x_test, y_test) = data\n",
    "\n",
    "#学習モデルを構築\n",
    "model = tf.keras.models.Sequential([\n",
    "    tf.keras.layers.Dense(30, activation='relu', input_dim=2),\n",
    "    tf.keras.layers.Dense(3, activation='softmax')\n",
    "])\n",
    "model.compile(optimizer = \"adam\",\n",
    "             loss = 'sparse_categorical_crossentropy', \n",
    "             metrics = ['accuracy'])\n",
    "\n",
    "#学習\n",
    "model.fit(x_train, y_train, epochs=20)\n",
    "#テストデータを評価\n",
    "model.evaluate(x_test, y_test, verbose=2)\n",
    "\n",
    "#実際に勝負\n",
    "def janken(a, b):\n",
    "    hands = {'グー':0, 'チョキ':1, 'パー':2}\n",
    "    results = ['あいこ', '負け', '勝ち']\n",
    "    x = np.array([[hands[a], hands[b]]])\n",
    "    r = model.predict(x)\n",
    "    print(r)\n",
    "    print(a, b, '→', results[r[0].argmax()])\n",
    "    \n",
    "janken('グー', 'グー')\n",
    "janken('チョキ', 'チョキ')\n",
    "janken('パー', 'チョキ')"
   ]
  },
  {
   "cell_type": "code",
   "execution_count": null,
   "metadata": {},
   "outputs": [],
   "source": []
  }
 ],
 "metadata": {
  "kernelspec": {
   "display_name": "Python 3",
   "language": "python",
   "name": "python3"
  },
  "language_info": {
   "codemirror_mode": {
    "name": "ipython",
    "version": 3
   },
   "file_extension": ".py",
   "mimetype": "text/x-python",
   "name": "python",
   "nbconvert_exporter": "python",
   "pygments_lexer": "ipython3",
   "version": "3.8.10"
  }
 },
 "nbformat": 4,
 "nbformat_minor": 4
}
