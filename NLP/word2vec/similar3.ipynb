{
 "cells": [
  {
   "cell_type": "code",
   "execution_count": 6,
   "metadata": {},
   "outputs": [
    {
     "name": "stdout",
     "output_type": "stream",
     "text": [
      "PCが起動しなくなりました。急いでいます。\n",
      "-0.05967003\n",
      "0.170752\n",
      "0.20327231\n",
      "0.18215202\n",
      "0.4195061\n",
      "0.07070644\n",
      "使い方がよくわかりません。\n",
      "0.10450606\n",
      "0.105682015\n"
     ]
    }
   ],
   "source": [
    "import MeCab\n",
    "from gensim.models import word2vec\n",
    "\n",
    "model = word2vec.Word2Vec.load(\"./wiki.model\")\n",
    "tagger = MeCab.Tagger(\"-d /var/lib/mecab/dic/mecab-ipadic-neologd\")\n",
    "tagger.parse(\"\")\n",
    "\n",
    "#渡されたテキストに含まれる各単語と「至急」の類似度を表示する\n",
    "def print_emargency(text):\n",
    "    print(text)\n",
    "    #渡されたテキストを形態素解析\n",
    "    node = tagger.parseToNode(text)\n",
    "    while node is not None:\n",
    "        #ストップワードを書く\n",
    "        fields = node.feature.split(\",\")\n",
    "        if fields[0] == '名詞' or fields[0] == '動詞' or fields[0] =='形容詞':\n",
    "            #至急との類似度を表示する\n",
    "            print(model.wv.similarity(node.surface, '至急'))\n",
    "        node = node.next\n",
    "        \n",
    "print_emargency('PCが起動しなくなりました。急いでいます。')\n",
    "print_emargency('使い方がよくわかりません。')"
   ]
  },
  {
   "cell_type": "code",
   "execution_count": null,
   "metadata": {},
   "outputs": [],
   "source": []
  }
 ],
 "metadata": {
  "kernelspec": {
   "display_name": "Python 3",
   "language": "python",
   "name": "python3"
  },
  "language_info": {
   "codemirror_mode": {
    "name": "ipython",
    "version": 3
   },
   "file_extension": ".py",
   "mimetype": "text/x-python",
   "name": "python",
   "nbconvert_exporter": "python",
   "pygments_lexer": "ipython3",
   "version": "3.8.10"
  }
 },
 "nbformat": 4,
 "nbformat_minor": 4
}
