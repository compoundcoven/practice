{
 "cells": [
  {
   "cell_type": "code",
   "execution_count": 1,
   "metadata": {},
   "outputs": [
    {
     "name": "stdout",
     "output_type": "stream",
     "text": [
      "('国王', 0.7213422060012817)\n",
      "('王妃', 0.6701259016990662)\n",
      "('王家', 0.6683603525161743)\n",
      "('王国', 0.6600837707519531)\n",
      "('王室', 0.6567099094390869)\n",
      "('ウィルヘルミナ', 0.6550372242927551)\n",
      "('皇帝', 0.6524497270584106)\n",
      "('クヌート', 0.6493860483169556)\n",
      "('皇太子', 0.6268297433853149)\n",
      "('シーサワーンウォン', 0.6239766478538513)\n"
     ]
    }
   ],
   "source": [
    "import MeCab\n",
    "from gensim.models import word2vec\n",
    "model = word2vec.Word2Vec.load(\"./wiki.model\")\n",
    "results = model.wv.most_similar(positive=['王', '女王'], negative=['男'])\n",
    "for result in results:\n",
    "    print(result)"
   ]
  },
  {
   "cell_type": "code",
   "execution_count": null,
   "metadata": {},
   "outputs": [],
   "source": []
  }
 ],
 "metadata": {
  "kernelspec": {
   "display_name": "Python 3",
   "language": "python",
   "name": "python3"
  },
  "language_info": {
   "codemirror_mode": {
    "name": "ipython",
    "version": 3
   },
   "file_extension": ".py",
   "mimetype": "text/x-python",
   "name": "python",
   "nbconvert_exporter": "python",
   "pygments_lexer": "ipython3",
   "version": "3.8.10"
  }
 },
 "nbformat": 4,
 "nbformat_minor": 4
}
