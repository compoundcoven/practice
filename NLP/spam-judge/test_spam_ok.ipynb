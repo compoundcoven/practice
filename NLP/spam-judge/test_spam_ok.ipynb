{
 "cells": [
  {
   "cell_type": "code",
   "execution_count": 17,
   "metadata": {},
   "outputs": [
    {
     "name": "stdout",
     "output_type": "stream",
     "text": [
      "--結果-- OK\n",
      "--結果-- SPAM\n"
     ]
    }
   ],
   "source": [
    "import pickle\n",
    "import MeCab\n",
    "import numpy as np\n",
    "from sklearn.naive_bayes import GaussianNB\n",
    "\n",
    "#テストするテキスト\n",
    "test_text1 = \"\"\"システムのコンポーネントに関しての意思決定をするとき、必ずしも上位の意思決定者の判断が正しいわけではなく、\n",
    "現場のメンバーに判断を委ねる状況が最適な場合もある。\"\"\"\n",
    "\n",
    "test_text2 = \"\"\"億万長者になる方法を教えます。\n",
    "すぐに以下のアドレスにメールして。\n",
    "\"\"\"\n",
    "\n",
    "#ファイル名\n",
    "data_file = \"./ok-spam.pickle\"\n",
    "model_file = \"./ok-spam-model.pickle\"\n",
    "label_names = ['OK', 'SPAM']\n",
    "#単語辞書を読み出す\n",
    "data = pickle.load(open(data_file, \"rb\"))\n",
    "word_dic = data[2]\n",
    "#MeCabの準備\n",
    "tagger = MeCab.Tagger()\n",
    "#学習済みモデルを読み出す\n",
    "model = pickle.load(open(model_file, \"rb\"))\n",
    "\n",
    "#テキストがスパムかどうか判定する\n",
    "def check_spam(text):\n",
    "    #テキストを単語IDリストに変換し単語の出現頻度を調べる\n",
    "    zw = np.zeros(word_dic['__id'])\n",
    "    count = 0\n",
    "    s = tagger.parse(text)\n",
    "    #単語ごとの回数を加算\n",
    "    for line in s.split(\"\\n\"):\n",
    "        if line == \"EOS\" :\n",
    "            break\n",
    "        org = line.split(\"\\t\")[3]\n",
    "        if org in word_dic:\n",
    "            id = word_dic[org]\n",
    "            zw[id] += 1\n",
    "            count += 1\n",
    "    zw = zw / count\n",
    "    #予測\n",
    "    pre = model.predict([zw])[0]\n",
    "    print(\"--結果--\", label_names[pre])\n",
    "\n",
    "if __name__ == \"__main__\":\n",
    "    check_spam(test_text1)\n",
    "    check_spam(test_text2)"
   ]
  },
  {
   "cell_type": "code",
   "execution_count": null,
   "metadata": {},
   "outputs": [],
   "source": []
  }
 ],
 "metadata": {
  "kernelspec": {
   "display_name": "Python 3",
   "language": "python",
   "name": "python3"
  },
  "language_info": {
   "codemirror_mode": {
    "name": "ipython",
    "version": 3
   },
   "file_extension": ".py",
   "mimetype": "text/x-python",
   "name": "python",
   "nbconvert_exporter": "python",
   "pygments_lexer": "ipython3",
   "version": "3.8.10"
  }
 },
 "nbformat": 4,
 "nbformat_minor": 4
}
