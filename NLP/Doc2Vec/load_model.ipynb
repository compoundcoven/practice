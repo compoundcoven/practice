{
 "cells": [
  {
   "cell_type": "code",
   "execution_count": 6,
   "metadata": {},
   "outputs": [
    {
     "name": "stdout",
     "output_type": "stream",
     "text": [
      "---「宮沢 賢治 : よだかの星」と似た作品は？---\n",
      "[('宮沢\\u3000賢治:やまなし', 0.9115085601806641), ('宮沢\\u3000賢治:セロ弾きのゴーシュ', 0.8437379598617554), ('宮沢\\u3000賢治:どんぐりと山猫', 0.8322207927703857)]\n",
      "\n",
      "---「芥川 龍之介 : 犬と猫」と似た作品は？---\n",
      "[('芥川\\u3000龍之介:老年', 0.8338056206703186), ('宮沢\\u3000賢治:注文の多い料理店', 0.7239671349525452), ('紫式部:源氏物語 05 若紫', 0.709602415561676)]\n",
      "\n",
      "---「ボー エドガー・アラン : マリー・ロジェエの怪事件」と似た作品は？---\n",
      "[('ポー\\u3000エドガー・アラン:ウィリアム・ウィルスン', 0.8877441883087158), ('ポー\\u3000エドガー・アラン:黒猫', 0.816244900226593), ('ポー\\u3000エドガー・アラン:落穴と振子', 0.7044992446899414)]\n",
      "\n",
      "---「紫式部 : 源氏物語 06 末摘花」と似た作品は？---\n",
      "[('紫式部:源氏物語 05 若紫', 0.9214043617248535), ('紫式部:源氏物語 03 空蝉', 0.8729607462882996), ('紫式部:源氏物語 02 帚木', 0.8413125872612)]\n",
      "\n"
     ]
    }
   ],
   "source": [
    "import urllib.request as req\n",
    "import zipfile\n",
    "import os.path\n",
    "import MeCab\n",
    "from gensim import models\n",
    "\n",
    "#MeCabの初期化\n",
    "mecab = MeCab.Tagger()\n",
    "mecab.parse(\"\")\n",
    "\n",
    "#保存したDoc2Vec学習モデルを読み込み\n",
    "model = models.Doc2Vec.load('aozora.model')\n",
    "\n",
    "#分類用のZIPファイルを開き、中の文書を取得する\n",
    "def read_book(url, zipname):\n",
    "    if not os.path.exists(zipname):\n",
    "        req.urlretrieve(url, zipname)\n",
    "        \n",
    "    with zipfile.ZipFile(zipname, \"r\") as zf:\n",
    "        for filename in zf.namelist():\n",
    "            with zf.open(filename, \"r\") as f:\n",
    "                return f.read().decode(\"shift-jis\")\n",
    "            \n",
    "#引数のテキストを分かち書きにして配列にする\n",
    "def split_words(text):\n",
    "    node = mecab.parseToNode(text)\n",
    "    wakati_words = []\n",
    "    while node is not None:\n",
    "        hinshi = node.feature.split(\",\")[0]\n",
    "        if hinshi in [\"名詞\"]:\n",
    "            wakati_words.append(node.surface)\n",
    "        elif hinshi in [\"動詞\", \"形容詞\"]:\n",
    "            wakati_words.append(node.feature.split(\",\")[6])\n",
    "        node = node.next\n",
    "    return wakati_words\n",
    "\n",
    "#引数のタイトル、URLの作品を分類する\n",
    "def similar(title, url):\n",
    "    zipname = url.split(\"/\")[-1]\n",
    "    \n",
    "    words = read_book(url, zipname)\n",
    "    wakati_words = split_words(words)\n",
    "    vector = model.infer_vector(wakati_words)\n",
    "    print(\"---「\" + title +'」と似た作品は？---')\n",
    "    print(model.dv.most_similar([vector], topn=3))\n",
    "    print(\"\")\n",
    "    \n",
    "#各作家の作品を１つずつ分類\n",
    "similar(\"宮沢 賢治 : よだかの星\",\n",
    "       \"https://www.aozora.gr.jp/cards/000081/files/473_ruby_467.zip\")\n",
    "\n",
    "similar(\"芥川 龍之介 : 犬と猫\",\n",
    "        \"https://www.aozora.gr.jp/cards/000879/files/56_ruby_845.zip\")\n",
    "\n",
    "similar(\"ボー エドガー・アラン : マリー・ロジェエの怪事件\",\n",
    "        \"https://www.aozora.gr.jp/cards/000094/files/4261_ruby_54182.zip\")\n",
    "\n",
    "similar(\"紫式部 : 源氏物語 06 末摘花\",\n",
    "        \"https://www.aozora.gr.jp/cards/000052/files/5021_ruby_11106.zip\")"
   ]
  },
  {
   "cell_type": "code",
   "execution_count": null,
   "metadata": {},
   "outputs": [],
   "source": []
  }
 ],
 "metadata": {
  "kernelspec": {
   "display_name": "Python 3",
   "language": "python",
   "name": "python3"
  },
  "language_info": {
   "codemirror_mode": {
    "name": "ipython",
    "version": 3
   },
   "file_extension": ".py",
   "mimetype": "text/x-python",
   "name": "python",
   "nbconvert_exporter": "python",
   "pygments_lexer": "ipython3",
   "version": "3.8.10"
  }
 },
 "nbformat": 4,
 "nbformat_minor": 4
}
